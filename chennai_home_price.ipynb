{
 "cells": [
  {
   "cell_type": "code",
   "execution_count": 1,
   "id": "13a91b33",
   "metadata": {},
   "outputs": [],
   "source": [
    "import pandas as pd\n",
    "import numpy as np\n",
    "from matplotlib import pyplot as plt\n",
    "%matplotlib inline\n",
    "import matplotlib\n",
    "matplotlib.rcParams[\"figure.figsize\"]=(20,10)"
   ]
  },
  {
   "cell_type": "code",
   "execution_count": 2,
   "id": "ef401941",
   "metadata": {},
   "outputs": [
    {
     "data": {
      "text/html": [
       "<div>\n",
       "<style scoped>\n",
       "    .dataframe tbody tr th:only-of-type {\n",
       "        vertical-align: middle;\n",
       "    }\n",
       "\n",
       "    .dataframe tbody tr th {\n",
       "        vertical-align: top;\n",
       "    }\n",
       "\n",
       "    .dataframe thead th {\n",
       "        text-align: right;\n",
       "    }\n",
       "</style>\n",
       "<table border=\"1\" class=\"dataframe\">\n",
       "  <thead>\n",
       "    <tr style=\"text-align: right;\">\n",
       "      <th></th>\n",
       "      <th>price</th>\n",
       "      <th>area</th>\n",
       "      <th>status</th>\n",
       "      <th>bhk</th>\n",
       "      <th>bathroom</th>\n",
       "      <th>age</th>\n",
       "      <th>location</th>\n",
       "      <th>builder</th>\n",
       "    </tr>\n",
       "  </thead>\n",
       "  <tbody>\n",
       "    <tr>\n",
       "      <th>0</th>\n",
       "      <td>37.49</td>\n",
       "      <td>872</td>\n",
       "      <td>Ready to move</td>\n",
       "      <td>2</td>\n",
       "      <td>NaN</td>\n",
       "      <td>1.0</td>\n",
       "      <td>Sembakkam</td>\n",
       "      <td>MP Developers</td>\n",
       "    </tr>\n",
       "    <tr>\n",
       "      <th>1</th>\n",
       "      <td>93.54</td>\n",
       "      <td>1346</td>\n",
       "      <td>Under Construction</td>\n",
       "      <td>3</td>\n",
       "      <td>2.0</td>\n",
       "      <td>NaN</td>\n",
       "      <td>Selaiyur</td>\n",
       "      <td>DAC Promoters</td>\n",
       "    </tr>\n",
       "    <tr>\n",
       "      <th>2</th>\n",
       "      <td>151.00</td>\n",
       "      <td>2225</td>\n",
       "      <td>Under Construction</td>\n",
       "      <td>3</td>\n",
       "      <td>NaN</td>\n",
       "      <td>0.0</td>\n",
       "      <td>Mogappair</td>\n",
       "      <td>Casagrand Builder Private Limited</td>\n",
       "    </tr>\n",
       "    <tr>\n",
       "      <th>3</th>\n",
       "      <td>49.00</td>\n",
       "      <td>1028</td>\n",
       "      <td>Ready to move</td>\n",
       "      <td>2</td>\n",
       "      <td>2.0</td>\n",
       "      <td>3.0</td>\n",
       "      <td>Ambattur</td>\n",
       "      <td>Dugar Housing Builders</td>\n",
       "    </tr>\n",
       "    <tr>\n",
       "      <th>4</th>\n",
       "      <td>42.28</td>\n",
       "      <td>588</td>\n",
       "      <td>Under Construction</td>\n",
       "      <td>2</td>\n",
       "      <td>1.0</td>\n",
       "      <td>0.0</td>\n",
       "      <td>Pallavaram</td>\n",
       "      <td>Radiance Realty Developers India Ltd</td>\n",
       "    </tr>\n",
       "  </tbody>\n",
       "</table>\n",
       "</div>"
      ],
      "text/plain": [
       "    price  area              status  bhk  bathroom  age    location  \\\n",
       "0   37.49   872       Ready to move    2       NaN  1.0   Sembakkam   \n",
       "1   93.54  1346  Under Construction    3       2.0  NaN    Selaiyur   \n",
       "2  151.00  2225  Under Construction    3       NaN  0.0   Mogappair   \n",
       "3   49.00  1028       Ready to move    2       2.0  3.0    Ambattur   \n",
       "4   42.28   588  Under Construction    2       1.0  0.0  Pallavaram   \n",
       "\n",
       "                                builder  \n",
       "0                         MP Developers  \n",
       "1                         DAC Promoters  \n",
       "2     Casagrand Builder Private Limited  \n",
       "3                Dugar Housing Builders  \n",
       "4  Radiance Realty Developers India Ltd  "
      ]
     },
     "execution_count": 2,
     "metadata": {},
     "output_type": "execute_result"
    }
   ],
   "source": [
    "df1=pd.read_csv(\"clean_data.csv\")\n",
    "df1.head()"
   ]
  },
  {
   "cell_type": "code",
   "execution_count": 3,
   "id": "7dab7e14",
   "metadata": {},
   "outputs": [
    {
     "data": {
      "text/plain": [
       "(2620, 8)"
      ]
     },
     "execution_count": 3,
     "metadata": {},
     "output_type": "execute_result"
    }
   ],
   "source": [
    "df1.shape"
   ]
  },
  {
   "cell_type": "code",
   "execution_count": 4,
   "id": "25edc52b",
   "metadata": {},
   "outputs": [
    {
     "data": {
      "text/html": [
       "<div>\n",
       "<style scoped>\n",
       "    .dataframe tbody tr th:only-of-type {\n",
       "        vertical-align: middle;\n",
       "    }\n",
       "\n",
       "    .dataframe tbody tr th {\n",
       "        vertical-align: top;\n",
       "    }\n",
       "\n",
       "    .dataframe thead th {\n",
       "        text-align: right;\n",
       "    }\n",
       "</style>\n",
       "<table border=\"1\" class=\"dataframe\">\n",
       "  <thead>\n",
       "    <tr style=\"text-align: right;\">\n",
       "      <th></th>\n",
       "      <th>price</th>\n",
       "      <th>area</th>\n",
       "      <th>bhk</th>\n",
       "      <th>bathroom</th>\n",
       "      <th>location</th>\n",
       "    </tr>\n",
       "  </thead>\n",
       "  <tbody>\n",
       "    <tr>\n",
       "      <th>0</th>\n",
       "      <td>37.49</td>\n",
       "      <td>872</td>\n",
       "      <td>2</td>\n",
       "      <td>NaN</td>\n",
       "      <td>Sembakkam</td>\n",
       "    </tr>\n",
       "    <tr>\n",
       "      <th>1</th>\n",
       "      <td>93.54</td>\n",
       "      <td>1346</td>\n",
       "      <td>3</td>\n",
       "      <td>2.0</td>\n",
       "      <td>Selaiyur</td>\n",
       "    </tr>\n",
       "    <tr>\n",
       "      <th>2</th>\n",
       "      <td>151.00</td>\n",
       "      <td>2225</td>\n",
       "      <td>3</td>\n",
       "      <td>NaN</td>\n",
       "      <td>Mogappair</td>\n",
       "    </tr>\n",
       "    <tr>\n",
       "      <th>3</th>\n",
       "      <td>49.00</td>\n",
       "      <td>1028</td>\n",
       "      <td>2</td>\n",
       "      <td>2.0</td>\n",
       "      <td>Ambattur</td>\n",
       "    </tr>\n",
       "    <tr>\n",
       "      <th>4</th>\n",
       "      <td>42.28</td>\n",
       "      <td>588</td>\n",
       "      <td>2</td>\n",
       "      <td>1.0</td>\n",
       "      <td>Pallavaram</td>\n",
       "    </tr>\n",
       "  </tbody>\n",
       "</table>\n",
       "</div>"
      ],
      "text/plain": [
       "    price  area  bhk  bathroom    location\n",
       "0   37.49   872    2       NaN   Sembakkam\n",
       "1   93.54  1346    3       2.0    Selaiyur\n",
       "2  151.00  2225    3       NaN   Mogappair\n",
       "3   49.00  1028    2       2.0    Ambattur\n",
       "4   42.28   588    2       1.0  Pallavaram"
      ]
     },
     "execution_count": 4,
     "metadata": {},
     "output_type": "execute_result"
    }
   ],
   "source": [
    "df2=df1.drop(['status','age','builder'],axis='columns')\n",
    "df2.head()"
   ]
  },
  {
   "cell_type": "code",
   "execution_count": 5,
   "id": "f5162fdc",
   "metadata": {},
   "outputs": [
    {
     "data": {
      "text/plain": [
       "price          0\n",
       "area           0\n",
       "bhk            0\n",
       "bathroom    1217\n",
       "location       0\n",
       "dtype: int64"
      ]
     },
     "execution_count": 5,
     "metadata": {},
     "output_type": "execute_result"
    }
   ],
   "source": [
    "df2.isnull().sum()"
   ]
  },
  {
   "cell_type": "code",
   "execution_count": 6,
   "id": "32078c1e",
   "metadata": {},
   "outputs": [
    {
     "data": {
      "text/plain": [
       "2.0"
      ]
     },
     "execution_count": 6,
     "metadata": {},
     "output_type": "execute_result"
    }
   ],
   "source": [
    "df2['bathroom'].median()"
   ]
  },
  {
   "cell_type": "code",
   "execution_count": 7,
   "id": "7445bc51",
   "metadata": {},
   "outputs": [
    {
     "data": {
      "text/html": [
       "<div>\n",
       "<style scoped>\n",
       "    .dataframe tbody tr th:only-of-type {\n",
       "        vertical-align: middle;\n",
       "    }\n",
       "\n",
       "    .dataframe tbody tr th {\n",
       "        vertical-align: top;\n",
       "    }\n",
       "\n",
       "    .dataframe thead th {\n",
       "        text-align: right;\n",
       "    }\n",
       "</style>\n",
       "<table border=\"1\" class=\"dataframe\">\n",
       "  <thead>\n",
       "    <tr style=\"text-align: right;\">\n",
       "      <th></th>\n",
       "      <th>price</th>\n",
       "      <th>area</th>\n",
       "      <th>bhk</th>\n",
       "      <th>bathroom</th>\n",
       "      <th>location</th>\n",
       "    </tr>\n",
       "  </thead>\n",
       "  <tbody>\n",
       "    <tr>\n",
       "      <th>0</th>\n",
       "      <td>37.49</td>\n",
       "      <td>872</td>\n",
       "      <td>2</td>\n",
       "      <td>2.0</td>\n",
       "      <td>Sembakkam</td>\n",
       "    </tr>\n",
       "    <tr>\n",
       "      <th>1</th>\n",
       "      <td>93.54</td>\n",
       "      <td>1346</td>\n",
       "      <td>3</td>\n",
       "      <td>2.0</td>\n",
       "      <td>Selaiyur</td>\n",
       "    </tr>\n",
       "    <tr>\n",
       "      <th>2</th>\n",
       "      <td>151.00</td>\n",
       "      <td>2225</td>\n",
       "      <td>3</td>\n",
       "      <td>2.0</td>\n",
       "      <td>Mogappair</td>\n",
       "    </tr>\n",
       "    <tr>\n",
       "      <th>3</th>\n",
       "      <td>49.00</td>\n",
       "      <td>1028</td>\n",
       "      <td>2</td>\n",
       "      <td>2.0</td>\n",
       "      <td>Ambattur</td>\n",
       "    </tr>\n",
       "    <tr>\n",
       "      <th>4</th>\n",
       "      <td>42.28</td>\n",
       "      <td>588</td>\n",
       "      <td>2</td>\n",
       "      <td>1.0</td>\n",
       "      <td>Pallavaram</td>\n",
       "    </tr>\n",
       "  </tbody>\n",
       "</table>\n",
       "</div>"
      ],
      "text/plain": [
       "    price  area  bhk  bathroom    location\n",
       "0   37.49   872    2       2.0   Sembakkam\n",
       "1   93.54  1346    3       2.0    Selaiyur\n",
       "2  151.00  2225    3       2.0   Mogappair\n",
       "3   49.00  1028    2       2.0    Ambattur\n",
       "4   42.28   588    2       1.0  Pallavaram"
      ]
     },
     "execution_count": 7,
     "metadata": {},
     "output_type": "execute_result"
    }
   ],
   "source": [
    "#filling the nan values with median\n",
    "df3=df2.fillna(df2['bathroom'].median())\n",
    "df3.head()"
   ]
  },
  {
   "cell_type": "code",
   "execution_count": 8,
   "id": "80912702",
   "metadata": {},
   "outputs": [
    {
     "data": {
      "text/plain": [
       "array([2, 3, 4, 1, 5, 6, 8], dtype=int64)"
      ]
     },
     "execution_count": 8,
     "metadata": {},
     "output_type": "execute_result"
    }
   ],
   "source": [
    "df3['bhk'].unique()"
   ]
  },
  {
   "cell_type": "code",
   "execution_count": 9,
   "id": "a57c37e4",
   "metadata": {},
   "outputs": [
    {
     "data": {
      "text/plain": [
       "array([ 872, 1346, 2225, ..., 1127, 1131,  898], dtype=int64)"
      ]
     },
     "execution_count": 9,
     "metadata": {},
     "output_type": "execute_result"
    }
   ],
   "source": [
    "df3['area'].unique()"
   ]
  },
  {
   "cell_type": "code",
   "execution_count": 10,
   "id": "786fdffa",
   "metadata": {},
   "outputs": [
    {
     "data": {
      "text/plain": [
       "array([ 37.49,  93.54, 151.  , ...,  23.94, 340.  ,  31.5 ])"
      ]
     },
     "execution_count": 10,
     "metadata": {},
     "output_type": "execute_result"
    }
   ],
   "source": [
    "df3['price'].unique()"
   ]
  },
  {
   "cell_type": "code",
   "execution_count": 11,
   "id": "8f4bb084",
   "metadata": {},
   "outputs": [
    {
     "data": {
      "text/html": [
       "<div>\n",
       "<style scoped>\n",
       "    .dataframe tbody tr th:only-of-type {\n",
       "        vertical-align: middle;\n",
       "    }\n",
       "\n",
       "    .dataframe tbody tr th {\n",
       "        vertical-align: top;\n",
       "    }\n",
       "\n",
       "    .dataframe thead th {\n",
       "        text-align: right;\n",
       "    }\n",
       "</style>\n",
       "<table border=\"1\" class=\"dataframe\">\n",
       "  <thead>\n",
       "    <tr style=\"text-align: right;\">\n",
       "      <th></th>\n",
       "      <th>price</th>\n",
       "      <th>area</th>\n",
       "      <th>bhk</th>\n",
       "      <th>bathroom</th>\n",
       "      <th>location</th>\n",
       "      <th>price_per_sqft</th>\n",
       "    </tr>\n",
       "  </thead>\n",
       "  <tbody>\n",
       "    <tr>\n",
       "      <th>0</th>\n",
       "      <td>37.49</td>\n",
       "      <td>872</td>\n",
       "      <td>2</td>\n",
       "      <td>2.0</td>\n",
       "      <td>Sembakkam</td>\n",
       "      <td>4299.311927</td>\n",
       "    </tr>\n",
       "    <tr>\n",
       "      <th>1</th>\n",
       "      <td>93.54</td>\n",
       "      <td>1346</td>\n",
       "      <td>3</td>\n",
       "      <td>2.0</td>\n",
       "      <td>Selaiyur</td>\n",
       "      <td>6949.479941</td>\n",
       "    </tr>\n",
       "    <tr>\n",
       "      <th>2</th>\n",
       "      <td>151.00</td>\n",
       "      <td>2225</td>\n",
       "      <td>3</td>\n",
       "      <td>2.0</td>\n",
       "      <td>Mogappair</td>\n",
       "      <td>6786.516854</td>\n",
       "    </tr>\n",
       "    <tr>\n",
       "      <th>3</th>\n",
       "      <td>49.00</td>\n",
       "      <td>1028</td>\n",
       "      <td>2</td>\n",
       "      <td>2.0</td>\n",
       "      <td>Ambattur</td>\n",
       "      <td>4766.536965</td>\n",
       "    </tr>\n",
       "    <tr>\n",
       "      <th>4</th>\n",
       "      <td>42.28</td>\n",
       "      <td>588</td>\n",
       "      <td>2</td>\n",
       "      <td>1.0</td>\n",
       "      <td>Pallavaram</td>\n",
       "      <td>7190.476190</td>\n",
       "    </tr>\n",
       "  </tbody>\n",
       "</table>\n",
       "</div>"
      ],
      "text/plain": [
       "    price  area  bhk  bathroom    location  price_per_sqft\n",
       "0   37.49   872    2       2.0   Sembakkam     4299.311927\n",
       "1   93.54  1346    3       2.0    Selaiyur     6949.479941\n",
       "2  151.00  2225    3       2.0   Mogappair     6786.516854\n",
       "3   49.00  1028    2       2.0    Ambattur     4766.536965\n",
       "4   42.28   588    2       1.0  Pallavaram     7190.476190"
      ]
     },
     "execution_count": 11,
     "metadata": {},
     "output_type": "execute_result"
    }
   ],
   "source": [
    "#price in lakhs\n",
    "df4=df3.copy()\n",
    "df4['price_per_sqft']=df4['price']*100000/df4['area']\n",
    "df4.head()"
   ]
  },
  {
   "cell_type": "code",
   "execution_count": 12,
   "id": "e2b7ee6b",
   "metadata": {},
   "outputs": [
    {
     "data": {
      "text/plain": [
       "178"
      ]
     },
     "execution_count": 12,
     "metadata": {},
     "output_type": "execute_result"
    }
   ],
   "source": [
    "#no. of different locations\n",
    "len(df4['location'].unique())"
   ]
  },
  {
   "cell_type": "code",
   "execution_count": 13,
   "id": "301e503a",
   "metadata": {},
   "outputs": [
    {
     "data": {
      "text/plain": [
       "location\n",
       "Veppampattu                       149\n",
       "Pammal                            139\n",
       "Medavakkam                        111\n",
       "Sholinganallur                     99\n",
       "Perungudi                          88\n",
       "                                 ... \n",
       "Red Hills                           1\n",
       "Padapai                             1\n",
       "Oragadam Village Ambattur Talu      1\n",
       "Thiruvidandhai                      1\n",
       "Padi                                1\n",
       "Name: location, Length: 178, dtype: int64"
      ]
     },
     "execution_count": 13,
     "metadata": {},
     "output_type": "execute_result"
    }
   ],
   "source": [
    "df4.location=df4.location.apply(lambda x: x.strip())\n",
    "location_stats =df4.groupby('location')['location'].agg('count').sort_values(ascending=False)\n",
    "location_stats"
   ]
  },
  {
   "cell_type": "code",
   "execution_count": 14,
   "id": "aee4a185",
   "metadata": {},
   "outputs": [
    {
     "data": {
      "text/plain": [
       "119"
      ]
     },
     "execution_count": 14,
     "metadata": {},
     "output_type": "execute_result"
    }
   ],
   "source": [
    "len(location_stats[location_stats<=10])"
   ]
  },
  {
   "cell_type": "code",
   "execution_count": 15,
   "id": "97a56080",
   "metadata": {},
   "outputs": [
    {
     "data": {
      "text/plain": [
       "location\n",
       "Urapakkam                         10\n",
       "Thandalam                         10\n",
       "Ambattur INDUSTRIAL ESTATE        10\n",
       "Kilpauk                            9\n",
       "Saidapet                           9\n",
       "                                  ..\n",
       "Red Hills                          1\n",
       "Padapai                            1\n",
       "Oragadam Village Ambattur Talu     1\n",
       "Thiruvidandhai                     1\n",
       "Padi                               1\n",
       "Name: location, Length: 119, dtype: int64"
      ]
     },
     "execution_count": 15,
     "metadata": {},
     "output_type": "execute_result"
    }
   ],
   "source": [
    "location_stats_less_than_10=location_stats[location_stats<=10]\n",
    "location_stats_less_than_10"
   ]
  },
  {
   "cell_type": "code",
   "execution_count": 16,
   "id": "e993cd83",
   "metadata": {},
   "outputs": [
    {
     "data": {
      "text/plain": [
       "60"
      ]
     },
     "execution_count": 16,
     "metadata": {},
     "output_type": "execute_result"
    }
   ],
   "source": [
    "df4.location=df4.location.apply(lambda x: 'other' if x in location_stats_less_than_10 else x)\n",
    "len(df4.location.unique())"
   ]
  },
  {
   "cell_type": "code",
   "execution_count": 17,
   "id": "e17ec3d1",
   "metadata": {},
   "outputs": [
    {
     "data": {
      "text/html": [
       "<div>\n",
       "<style scoped>\n",
       "    .dataframe tbody tr th:only-of-type {\n",
       "        vertical-align: middle;\n",
       "    }\n",
       "\n",
       "    .dataframe tbody tr th {\n",
       "        vertical-align: top;\n",
       "    }\n",
       "\n",
       "    .dataframe thead th {\n",
       "        text-align: right;\n",
       "    }\n",
       "</style>\n",
       "<table border=\"1\" class=\"dataframe\">\n",
       "  <thead>\n",
       "    <tr style=\"text-align: right;\">\n",
       "      <th></th>\n",
       "      <th>price</th>\n",
       "      <th>area</th>\n",
       "      <th>bhk</th>\n",
       "      <th>bathroom</th>\n",
       "      <th>location</th>\n",
       "      <th>price_per_sqft</th>\n",
       "    </tr>\n",
       "  </thead>\n",
       "  <tbody>\n",
       "    <tr>\n",
       "      <th>0</th>\n",
       "      <td>37.49</td>\n",
       "      <td>872</td>\n",
       "      <td>2</td>\n",
       "      <td>2.0</td>\n",
       "      <td>Sembakkam</td>\n",
       "      <td>4299.311927</td>\n",
       "    </tr>\n",
       "    <tr>\n",
       "      <th>1</th>\n",
       "      <td>93.54</td>\n",
       "      <td>1346</td>\n",
       "      <td>3</td>\n",
       "      <td>2.0</td>\n",
       "      <td>Selaiyur</td>\n",
       "      <td>6949.479941</td>\n",
       "    </tr>\n",
       "    <tr>\n",
       "      <th>2</th>\n",
       "      <td>151.00</td>\n",
       "      <td>2225</td>\n",
       "      <td>3</td>\n",
       "      <td>2.0</td>\n",
       "      <td>Mogappair</td>\n",
       "      <td>6786.516854</td>\n",
       "    </tr>\n",
       "    <tr>\n",
       "      <th>3</th>\n",
       "      <td>49.00</td>\n",
       "      <td>1028</td>\n",
       "      <td>2</td>\n",
       "      <td>2.0</td>\n",
       "      <td>Ambattur</td>\n",
       "      <td>4766.536965</td>\n",
       "    </tr>\n",
       "    <tr>\n",
       "      <th>4</th>\n",
       "      <td>42.28</td>\n",
       "      <td>588</td>\n",
       "      <td>2</td>\n",
       "      <td>1.0</td>\n",
       "      <td>Pallavaram</td>\n",
       "      <td>7190.476190</td>\n",
       "    </tr>\n",
       "  </tbody>\n",
       "</table>\n",
       "</div>"
      ],
      "text/plain": [
       "    price  area  bhk  bathroom    location  price_per_sqft\n",
       "0   37.49   872    2       2.0   Sembakkam     4299.311927\n",
       "1   93.54  1346    3       2.0    Selaiyur     6949.479941\n",
       "2  151.00  2225    3       2.0   Mogappair     6786.516854\n",
       "3   49.00  1028    2       2.0    Ambattur     4766.536965\n",
       "4   42.28   588    2       1.0  Pallavaram     7190.476190"
      ]
     },
     "execution_count": 17,
     "metadata": {},
     "output_type": "execute_result"
    }
   ],
   "source": [
    "df4.head()"
   ]
  },
  {
   "cell_type": "markdown",
   "id": "219dbd3f",
   "metadata": {},
   "source": [
    "### Outlier Detection"
   ]
  },
  {
   "cell_type": "code",
   "execution_count": 18,
   "id": "1ed535dc",
   "metadata": {},
   "outputs": [
    {
     "data": {
      "text/html": [
       "<div>\n",
       "<style scoped>\n",
       "    .dataframe tbody tr th:only-of-type {\n",
       "        vertical-align: middle;\n",
       "    }\n",
       "\n",
       "    .dataframe tbody tr th {\n",
       "        vertical-align: top;\n",
       "    }\n",
       "\n",
       "    .dataframe thead th {\n",
       "        text-align: right;\n",
       "    }\n",
       "</style>\n",
       "<table border=\"1\" class=\"dataframe\">\n",
       "  <thead>\n",
       "    <tr style=\"text-align: right;\">\n",
       "      <th></th>\n",
       "      <th>price</th>\n",
       "      <th>area</th>\n",
       "      <th>bhk</th>\n",
       "      <th>bathroom</th>\n",
       "      <th>location</th>\n",
       "      <th>price_per_sqft</th>\n",
       "    </tr>\n",
       "  </thead>\n",
       "  <tbody>\n",
       "    <tr>\n",
       "      <th>4</th>\n",
       "      <td>42.28</td>\n",
       "      <td>588</td>\n",
       "      <td>2</td>\n",
       "      <td>1.0</td>\n",
       "      <td>Pallavaram</td>\n",
       "      <td>7190.476190</td>\n",
       "    </tr>\n",
       "    <tr>\n",
       "      <th>6</th>\n",
       "      <td>38.00</td>\n",
       "      <td>885</td>\n",
       "      <td>3</td>\n",
       "      <td>2.0</td>\n",
       "      <td>Thirumazhisai</td>\n",
       "      <td>4293.785311</td>\n",
       "    </tr>\n",
       "    <tr>\n",
       "      <th>43</th>\n",
       "      <td>42.28</td>\n",
       "      <td>588</td>\n",
       "      <td>2</td>\n",
       "      <td>1.0</td>\n",
       "      <td>Pallavaram</td>\n",
       "      <td>7190.476190</td>\n",
       "    </tr>\n",
       "    <tr>\n",
       "      <th>54</th>\n",
       "      <td>29.62</td>\n",
       "      <td>528</td>\n",
       "      <td>2</td>\n",
       "      <td>2.0</td>\n",
       "      <td>Pammal</td>\n",
       "      <td>5609.848485</td>\n",
       "    </tr>\n",
       "    <tr>\n",
       "      <th>206</th>\n",
       "      <td>35.34</td>\n",
       "      <td>594</td>\n",
       "      <td>2</td>\n",
       "      <td>2.0</td>\n",
       "      <td>Vengaivasal</td>\n",
       "      <td>5949.494949</td>\n",
       "    </tr>\n",
       "  </tbody>\n",
       "</table>\n",
       "</div>"
      ],
      "text/plain": [
       "     price  area  bhk  bathroom       location  price_per_sqft\n",
       "4    42.28   588    2       1.0     Pallavaram     7190.476190\n",
       "6    38.00   885    3       2.0  Thirumazhisai     4293.785311\n",
       "43   42.28   588    2       1.0     Pallavaram     7190.476190\n",
       "54   29.62   528    2       2.0         Pammal     5609.848485\n",
       "206  35.34   594    2       2.0    Vengaivasal     5949.494949"
      ]
     },
     "execution_count": 18,
     "metadata": {},
     "output_type": "execute_result"
    }
   ],
   "source": [
    "#setting threshold for sqt\n",
    "df4[df4.area/df4.bhk<300].head()"
   ]
  },
  {
   "cell_type": "code",
   "execution_count": 19,
   "id": "610a6253",
   "metadata": {},
   "outputs": [
    {
     "data": {
      "text/plain": [
       "(2620, 6)"
      ]
     },
     "execution_count": 19,
     "metadata": {},
     "output_type": "execute_result"
    }
   ],
   "source": [
    "df4.shape"
   ]
  },
  {
   "cell_type": "code",
   "execution_count": 20,
   "id": "2ec0dac4",
   "metadata": {},
   "outputs": [
    {
     "data": {
      "text/plain": [
       "(2593, 6)"
      ]
     },
     "execution_count": 20,
     "metadata": {},
     "output_type": "execute_result"
    }
   ],
   "source": [
    "#removing outliers\n",
    "df5=df4[~(df4.area/df4.bhk<300)]\n",
    "df5.shape"
   ]
  },
  {
   "cell_type": "code",
   "execution_count": 21,
   "id": "ec199ef1",
   "metadata": {},
   "outputs": [
    {
     "data": {
      "text/plain": [
       "count     2593.000000\n",
       "mean      6396.745568\n",
       "std       3422.929203\n",
       "min       1743.119266\n",
       "25%       4606.060606\n",
       "50%       5417.177914\n",
       "75%       6640.625000\n",
       "max      26086.956522\n",
       "Name: price_per_sqft, dtype: float64"
      ]
     },
     "execution_count": 21,
     "metadata": {},
     "output_type": "execute_result"
    }
   ],
   "source": [
    "#min and max are rare cases\n",
    "df5.price_per_sqft.describe()"
   ]
  },
  {
   "cell_type": "code",
   "execution_count": 22,
   "id": "ce594a5a",
   "metadata": {},
   "outputs": [
    {
     "data": {
      "text/plain": [
       "(2011, 6)"
      ]
     },
     "execution_count": 22,
     "metadata": {},
     "output_type": "execute_result"
    }
   ],
   "source": [
    "#filtering beyond standard deviation 1\n",
    "def remove_pps_outliers(df):\n",
    "    df_out=pd.DataFrame()\n",
    "    for key, subdf in df.groupby('location'):\n",
    "        m=np.mean(subdf.price_per_sqft)\n",
    "        st=np.std(subdf.price_per_sqft)\n",
    "        reduced_df=subdf[(subdf.price_per_sqft>(m-st))&(subdf.price_per_sqft<=(m+st))]\n",
    "        df_out=pd.concat([df_out,reduced_df],ignore_index=True)\n",
    "    return df_out\n",
    "df6= remove_pps_outliers(df5)\n",
    "df6.shape\n",
    "        \n"
   ]
  },
  {
   "cell_type": "code",
   "execution_count": 23,
   "id": "248909a6",
   "metadata": {},
   "outputs": [
    {
     "data": {
      "image/png": "[encoded data removed]",
      "text/plain": [
       "<Figure size 1080x720 with 1 Axes>"
      ]
     },
     "metadata": {
      "needs_background": "light"
     },
     "output_type": "display_data"
    }
   ],
   "source": [
    "#scatter to visualise same area with different prize\n",
    "def plot_scatter_chart(df,location):\n",
    "    bhk2=df[(df.location==location)&(df.bhk==2)]\n",
    "    bhk3=df[(df.location==location)&(df.bhk==3)]\n",
    "    matplotlib.rcParams['figure.figsize']=(15,10)\n",
    "    plt.scatter(bhk2.area,bhk2.price_per_sqft,color='blue',label='2 BHK', s=50)\n",
    "    plt.scatter(bhk3.area,bhk3.price_per_sqft,marker='+',color='green',label='3 BHK', s=50)\n",
    "    plt.xlabel(\"Total Square Feet Area\")\n",
    "    plt.ylabel(\"Price Per Square Feet\")\n",
    "    plt.title(location)\n",
    "    plt.legend()\n",
    "plot_scatter_chart(df6,\"Perungalathur\")"
   ]
  },
  {
   "cell_type": "code",
   "execution_count": 24,
   "id": "b29aa2a4",
   "metadata": {},
   "outputs": [
    {
     "data": {
      "text/plain": [
       "(1337, 6)"
      ]
     },
     "execution_count": 24,
     "metadata": {},
     "output_type": "execute_result"
    }
   ],
   "source": [
    "def remove_bhk_outliers(df):\n",
    "    exclude_indices = np.array([])\n",
    "    for location, location_df in df.groupby('location'):\n",
    "        bhk_stats={}\n",
    "        for bhk, bhk_df in df.groupby('bhk'):\n",
    "            bhk_stats[bhk]={\n",
    "                'mean':np.mean(bhk_df.price_per_sqft),\n",
    "                'std':np.std(bhk_df.price_per_sqft),\n",
    "                'count':bhk_df.shape[0]\n",
    "            }\n",
    "        for bhk, bhk_df in location_df.groupby('bhk'):\n",
    "            stats=bhk_stats.get(bhk-1)\n",
    "            if stats and stats['count']>5:\n",
    "                exclude_indices=np.append(exclude_indices, bhk_df[bhk_df.price_per_sqft<(stats['mean'])].index.values)\n",
    "    return df.drop(exclude_indices,axis='index')   \n",
    "df7=remove_bhk_outliers(df6)\n",
    "df7.shape"
   ]
  },
  {
   "cell_type": "code",
   "execution_count": 25,
   "id": "05041a43",
   "metadata": {},
   "outputs": [
    {
     "data": {
      "image/png": "[encoded data removed]",
      "text/plain": [
       "<Figure size 1080x720 with 1 Axes>"
      ]
     },
     "metadata": {
      "needs_background": "light"
     },
     "output_type": "display_data"
    }
   ],
   "source": [
    "plot_scatter_chart(df7,\"Perungalathur\")"
   ]
  },
  {
   "cell_type": "code",
   "execution_count": 26,
   "id": "3ac75779",
   "metadata": {},
   "outputs": [
    {
     "data": {
      "text/plain": [
       "Text(0, 0.5, 'count')"
      ]
     },
     "execution_count": 26,
     "metadata": {},
     "output_type": "execute_result"
    },
    {
     "data": {
      "image/png": "[encoded data removed]",
      "text/plain": [
       "<Figure size 1440x720 with 1 Axes>"
      ]
     },
     "metadata": {
      "needs_background": "light"
     },
     "output_type": "display_data"
    }
   ],
   "source": [
    "import matplotlib\n",
    "matplotlib.rcParams[\"figure.figsize\"]=(20,10)\n",
    "plt.hist(df7.price_per_sqft,rwidth=0.8)\n",
    "plt.xlabel(\"price per square feet\")\n",
    "plt.ylabel(\"count\")"
   ]
  },
  {
   "cell_type": "code",
   "execution_count": 27,
   "id": "56a7437a",
   "metadata": {},
   "outputs": [
    {
     "data": {
      "text/plain": [
       "array([2., 3., 4., 1., 5.])"
      ]
     },
     "execution_count": 27,
     "metadata": {},
     "output_type": "execute_result"
    }
   ],
   "source": [
    "df7.bathroom.unique()"
   ]
  },
  {
   "cell_type": "code",
   "execution_count": 28,
   "id": "ad92dcee",
   "metadata": {},
   "outputs": [
    {
     "data": {
      "text/html": [
       "<div>\n",
       "<style scoped>\n",
       "    .dataframe tbody tr th:only-of-type {\n",
       "        vertical-align: middle;\n",
       "    }\n",
       "\n",
       "    .dataframe tbody tr th {\n",
       "        vertical-align: top;\n",
       "    }\n",
       "\n",
       "    .dataframe thead th {\n",
       "        text-align: right;\n",
       "    }\n",
       "</style>\n",
       "<table border=\"1\" class=\"dataframe\">\n",
       "  <thead>\n",
       "    <tr style=\"text-align: right;\">\n",
       "      <th></th>\n",
       "      <th>price</th>\n",
       "      <th>area</th>\n",
       "      <th>bhk</th>\n",
       "      <th>bathroom</th>\n",
       "      <th>location</th>\n",
       "    </tr>\n",
       "  </thead>\n",
       "  <tbody>\n",
       "    <tr>\n",
       "      <th>0</th>\n",
       "      <td>261.0</td>\n",
       "      <td>1548</td>\n",
       "      <td>3</td>\n",
       "      <td>2.0</td>\n",
       "      <td>Adyar</td>\n",
       "    </tr>\n",
       "    <tr>\n",
       "      <th>1</th>\n",
       "      <td>278.0</td>\n",
       "      <td>1652</td>\n",
       "      <td>3</td>\n",
       "      <td>2.0</td>\n",
       "      <td>Adyar</td>\n",
       "    </tr>\n",
       "    <tr>\n",
       "      <th>2</th>\n",
       "      <td>274.0</td>\n",
       "      <td>1627</td>\n",
       "      <td>3</td>\n",
       "      <td>2.0</td>\n",
       "      <td>Adyar</td>\n",
       "    </tr>\n",
       "    <tr>\n",
       "      <th>3</th>\n",
       "      <td>210.0</td>\n",
       "      <td>1381</td>\n",
       "      <td>3</td>\n",
       "      <td>3.0</td>\n",
       "      <td>Adyar</td>\n",
       "    </tr>\n",
       "    <tr>\n",
       "      <th>4</th>\n",
       "      <td>325.0</td>\n",
       "      <td>2411</td>\n",
       "      <td>4</td>\n",
       "      <td>4.0</td>\n",
       "      <td>Adyar</td>\n",
       "    </tr>\n",
       "  </tbody>\n",
       "</table>\n",
       "</div>"
      ],
      "text/plain": [
       "   price  area  bhk  bathroom location\n",
       "0  261.0  1548    3       2.0    Adyar\n",
       "1  278.0  1652    3       2.0    Adyar\n",
       "2  274.0  1627    3       2.0    Adyar\n",
       "3  210.0  1381    3       3.0    Adyar\n",
       "4  325.0  2411    4       4.0    Adyar"
      ]
     },
     "execution_count": 28,
     "metadata": {},
     "output_type": "execute_result"
    }
   ],
   "source": [
    "#processing text data\n",
    "df8=df7.drop(['price_per_sqft'],axis='columns')\n",
    "df8.head()"
   ]
  },
  {
   "cell_type": "code",
   "execution_count": 29,
   "id": "8c82642c",
   "metadata": {},
   "outputs": [
    {
     "data": {
      "text/html": [
       "<div>\n",
       "<style scoped>\n",
       "    .dataframe tbody tr th:only-of-type {\n",
       "        vertical-align: middle;\n",
       "    }\n",
       "\n",
       "    .dataframe tbody tr th {\n",
       "        vertical-align: top;\n",
       "    }\n",
       "\n",
       "    .dataframe thead th {\n",
       "        text-align: right;\n",
       "    }\n",
       "</style>\n",
       "<table border=\"1\" class=\"dataframe\">\n",
       "  <thead>\n",
       "    <tr style=\"text-align: right;\">\n",
       "      <th></th>\n",
       "      <th>Adyar</th>\n",
       "      <th>Alwarpet</th>\n",
       "      <th>Ambattur</th>\n",
       "      <th>Anna Nagar</th>\n",
       "      <th>Ayanambakkam</th>\n",
       "      <th>Chromepet</th>\n",
       "      <th>East Tambaram</th>\n",
       "      <th>Gerugambakkam</th>\n",
       "      <th>Gowrivakkam</th>\n",
       "      <th>Guduvancheri</th>\n",
       "      <th>...</th>\n",
       "      <th>Tiruvottiyur</th>\n",
       "      <th>Vadanemmeli</th>\n",
       "      <th>Vadapalani</th>\n",
       "      <th>Vanagaram</th>\n",
       "      <th>Velachery</th>\n",
       "      <th>Vengaivasal</th>\n",
       "      <th>Veppampattu</th>\n",
       "      <th>West Mambalam</th>\n",
       "      <th>other</th>\n",
       "      <th>tambaram west</th>\n",
       "    </tr>\n",
       "  </thead>\n",
       "  <tbody>\n",
       "    <tr>\n",
       "      <th>0</th>\n",
       "      <td>1</td>\n",
       "      <td>0</td>\n",
       "      <td>0</td>\n",
       "      <td>0</td>\n",
       "      <td>0</td>\n",
       "      <td>0</td>\n",
       "      <td>0</td>\n",
       "      <td>0</td>\n",
       "      <td>0</td>\n",
       "      <td>0</td>\n",
       "      <td>...</td>\n",
       "      <td>0</td>\n",
       "      <td>0</td>\n",
       "      <td>0</td>\n",
       "      <td>0</td>\n",
       "      <td>0</td>\n",
       "      <td>0</td>\n",
       "      <td>0</td>\n",
       "      <td>0</td>\n",
       "      <td>0</td>\n",
       "      <td>0</td>\n",
       "    </tr>\n",
       "    <tr>\n",
       "      <th>1</th>\n",
       "      <td>1</td>\n",
       "      <td>0</td>\n",
       "      <td>0</td>\n",
       "      <td>0</td>\n",
       "      <td>0</td>\n",
       "      <td>0</td>\n",
       "      <td>0</td>\n",
       "      <td>0</td>\n",
       "      <td>0</td>\n",
       "      <td>0</td>\n",
       "      <td>...</td>\n",
       "      <td>0</td>\n",
       "      <td>0</td>\n",
       "      <td>0</td>\n",
       "      <td>0</td>\n",
       "      <td>0</td>\n",
       "      <td>0</td>\n",
       "      <td>0</td>\n",
       "      <td>0</td>\n",
       "      <td>0</td>\n",
       "      <td>0</td>\n",
       "    </tr>\n",
       "    <tr>\n",
       "      <th>2</th>\n",
       "      <td>1</td>\n",
       "      <td>0</td>\n",
       "      <td>0</td>\n",
       "      <td>0</td>\n",
       "      <td>0</td>\n",
       "      <td>0</td>\n",
       "      <td>0</td>\n",
       "      <td>0</td>\n",
       "      <td>0</td>\n",
       "      <td>0</td>\n",
       "      <td>...</td>\n",
       "      <td>0</td>\n",
       "      <td>0</td>\n",
       "      <td>0</td>\n",
       "      <td>0</td>\n",
       "      <td>0</td>\n",
       "      <td>0</td>\n",
       "      <td>0</td>\n",
       "      <td>0</td>\n",
       "      <td>0</td>\n",
       "      <td>0</td>\n",
       "    </tr>\n",
       "    <tr>\n",
       "      <th>3</th>\n",
       "      <td>1</td>\n",
       "      <td>0</td>\n",
       "      <td>0</td>\n",
       "      <td>0</td>\n",
       "      <td>0</td>\n",
       "      <td>0</td>\n",
       "      <td>0</td>\n",
       "      <td>0</td>\n",
       "      <td>0</td>\n",
       "      <td>0</td>\n",
       "      <td>...</td>\n",
       "      <td>0</td>\n",
       "      <td>0</td>\n",
       "      <td>0</td>\n",
       "      <td>0</td>\n",
       "      <td>0</td>\n",
       "      <td>0</td>\n",
       "      <td>0</td>\n",
       "      <td>0</td>\n",
       "      <td>0</td>\n",
       "      <td>0</td>\n",
       "    </tr>\n",
       "    <tr>\n",
       "      <th>4</th>\n",
       "      <td>1</td>\n",
       "      <td>0</td>\n",
       "      <td>0</td>\n",
       "      <td>0</td>\n",
       "      <td>0</td>\n",
       "      <td>0</td>\n",
       "      <td>0</td>\n",
       "      <td>0</td>\n",
       "      <td>0</td>\n",
       "      <td>0</td>\n",
       "      <td>...</td>\n",
       "      <td>0</td>\n",
       "      <td>0</td>\n",
       "      <td>0</td>\n",
       "      <td>0</td>\n",
       "      <td>0</td>\n",
       "      <td>0</td>\n",
       "      <td>0</td>\n",
       "      <td>0</td>\n",
       "      <td>0</td>\n",
       "      <td>0</td>\n",
       "    </tr>\n",
       "  </tbody>\n",
       "</table>\n",
       "<p>5 rows × 58 columns</p>\n",
       "</div>"
      ],
      "text/plain": [
       "   Adyar  Alwarpet  Ambattur  Anna Nagar  Ayanambakkam  Chromepet  \\\n",
       "0      1         0         0           0             0          0   \n",
       "1      1         0         0           0             0          0   \n",
       "2      1         0         0           0             0          0   \n",
       "3      1         0         0           0             0          0   \n",
       "4      1         0         0           0             0          0   \n",
       "\n",
       "   East Tambaram  Gerugambakkam  Gowrivakkam  Guduvancheri  ...  Tiruvottiyur  \\\n",
       "0              0              0            0             0  ...             0   \n",
       "1              0              0            0             0  ...             0   \n",
       "2              0              0            0             0  ...             0   \n",
       "3              0              0            0             0  ...             0   \n",
       "4              0              0            0             0  ...             0   \n",
       "\n",
       "   Vadanemmeli  Vadapalani  Vanagaram  Velachery  Vengaivasal  Veppampattu  \\\n",
       "0            0           0          0          0            0            0   \n",
       "1            0           0          0          0            0            0   \n",
       "2            0           0          0          0            0            0   \n",
       "3            0           0          0          0            0            0   \n",
       "4            0           0          0          0            0            0   \n",
       "\n",
       "   West Mambalam  other  tambaram west  \n",
       "0              0      0              0  \n",
       "1              0      0              0  \n",
       "2              0      0              0  \n",
       "3              0      0              0  \n",
       "4              0      0              0  \n",
       "\n",
       "[5 rows x 58 columns]"
      ]
     },
     "execution_count": 29,
     "metadata": {},
     "output_type": "execute_result"
    }
   ],
   "source": [
    "dummies=pd.get_dummies(df8.location)\n",
    "dummies.head()"
   ]
  },
  {
   "cell_type": "code",
   "execution_count": 30,
   "id": "3cddc741",
   "metadata": {},
   "outputs": [
    {
     "data": {
      "text/html": [
       "<div>\n",
       "<style scoped>\n",
       "    .dataframe tbody tr th:only-of-type {\n",
       "        vertical-align: middle;\n",
       "    }\n",
       "\n",
       "    .dataframe tbody tr th {\n",
       "        vertical-align: top;\n",
       "    }\n",
       "\n",
       "    .dataframe thead th {\n",
       "        text-align: right;\n",
       "    }\n",
       "</style>\n",
       "<table border=\"1\" class=\"dataframe\">\n",
       "  <thead>\n",
       "    <tr style=\"text-align: right;\">\n",
       "      <th></th>\n",
       "      <th>price</th>\n",
       "      <th>area</th>\n",
       "      <th>bhk</th>\n",
       "      <th>bathroom</th>\n",
       "      <th>location</th>\n",
       "      <th>Adyar</th>\n",
       "      <th>Alwarpet</th>\n",
       "      <th>Ambattur</th>\n",
       "      <th>Anna Nagar</th>\n",
       "      <th>Ayanambakkam</th>\n",
       "      <th>...</th>\n",
       "      <th>Thirumazhisai</th>\n",
       "      <th>Tiruvottiyur</th>\n",
       "      <th>Vadanemmeli</th>\n",
       "      <th>Vadapalani</th>\n",
       "      <th>Vanagaram</th>\n",
       "      <th>Velachery</th>\n",
       "      <th>Vengaivasal</th>\n",
       "      <th>Veppampattu</th>\n",
       "      <th>West Mambalam</th>\n",
       "      <th>tambaram west</th>\n",
       "    </tr>\n",
       "  </thead>\n",
       "  <tbody>\n",
       "    <tr>\n",
       "      <th>0</th>\n",
       "      <td>261.0</td>\n",
       "      <td>1548</td>\n",
       "      <td>3</td>\n",
       "      <td>2.0</td>\n",
       "      <td>Adyar</td>\n",
       "      <td>1</td>\n",
       "      <td>0</td>\n",
       "      <td>0</td>\n",
       "      <td>0</td>\n",
       "      <td>0</td>\n",
       "      <td>...</td>\n",
       "      <td>0</td>\n",
       "      <td>0</td>\n",
       "      <td>0</td>\n",
       "      <td>0</td>\n",
       "      <td>0</td>\n",
       "      <td>0</td>\n",
       "      <td>0</td>\n",
       "      <td>0</td>\n",
       "      <td>0</td>\n",
       "      <td>0</td>\n",
       "    </tr>\n",
       "    <tr>\n",
       "      <th>1</th>\n",
       "      <td>278.0</td>\n",
       "      <td>1652</td>\n",
       "      <td>3</td>\n",
       "      <td>2.0</td>\n",
       "      <td>Adyar</td>\n",
       "      <td>1</td>\n",
       "      <td>0</td>\n",
       "      <td>0</td>\n",
       "      <td>0</td>\n",
       "      <td>0</td>\n",
       "      <td>...</td>\n",
       "      <td>0</td>\n",
       "      <td>0</td>\n",
       "      <td>0</td>\n",
       "      <td>0</td>\n",
       "      <td>0</td>\n",
       "      <td>0</td>\n",
       "      <td>0</td>\n",
       "      <td>0</td>\n",
       "      <td>0</td>\n",
       "      <td>0</td>\n",
       "    </tr>\n",
       "    <tr>\n",
       "      <th>2</th>\n",
       "      <td>274.0</td>\n",
       "      <td>1627</td>\n",
       "      <td>3</td>\n",
       "      <td>2.0</td>\n",
       "      <td>Adyar</td>\n",
       "      <td>1</td>\n",
       "      <td>0</td>\n",
       "      <td>0</td>\n",
       "      <td>0</td>\n",
       "      <td>0</td>\n",
       "      <td>...</td>\n",
       "      <td>0</td>\n",
       "      <td>0</td>\n",
       "      <td>0</td>\n",
       "      <td>0</td>\n",
       "      <td>0</td>\n",
       "      <td>0</td>\n",
       "      <td>0</td>\n",
       "      <td>0</td>\n",
       "      <td>0</td>\n",
       "      <td>0</td>\n",
       "    </tr>\n",
       "    <tr>\n",
       "      <th>3</th>\n",
       "      <td>210.0</td>\n",
       "      <td>1381</td>\n",
       "      <td>3</td>\n",
       "      <td>3.0</td>\n",
       "      <td>Adyar</td>\n",
       "      <td>1</td>\n",
       "      <td>0</td>\n",
       "      <td>0</td>\n",
       "      <td>0</td>\n",
       "      <td>0</td>\n",
       "      <td>...</td>\n",
       "      <td>0</td>\n",
       "      <td>0</td>\n",
       "      <td>0</td>\n",
       "      <td>0</td>\n",
       "      <td>0</td>\n",
       "      <td>0</td>\n",
       "      <td>0</td>\n",
       "      <td>0</td>\n",
       "      <td>0</td>\n",
       "      <td>0</td>\n",
       "    </tr>\n",
       "    <tr>\n",
       "      <th>4</th>\n",
       "      <td>325.0</td>\n",
       "      <td>2411</td>\n",
       "      <td>4</td>\n",
       "      <td>4.0</td>\n",
       "      <td>Adyar</td>\n",
       "      <td>1</td>\n",
       "      <td>0</td>\n",
       "      <td>0</td>\n",
       "      <td>0</td>\n",
       "      <td>0</td>\n",
       "      <td>...</td>\n",
       "      <td>0</td>\n",
       "      <td>0</td>\n",
       "      <td>0</td>\n",
       "      <td>0</td>\n",
       "      <td>0</td>\n",
       "      <td>0</td>\n",
       "      <td>0</td>\n",
       "      <td>0</td>\n",
       "      <td>0</td>\n",
       "      <td>0</td>\n",
       "    </tr>\n",
       "  </tbody>\n",
       "</table>\n",
       "<p>5 rows × 62 columns</p>\n",
       "</div>"
      ],
      "text/plain": [
       "   price  area  bhk  bathroom location  Adyar  Alwarpet  Ambattur  Anna Nagar  \\\n",
       "0  261.0  1548    3       2.0    Adyar      1         0         0           0   \n",
       "1  278.0  1652    3       2.0    Adyar      1         0         0           0   \n",
       "2  274.0  1627    3       2.0    Adyar      1         0         0           0   \n",
       "3  210.0  1381    3       3.0    Adyar      1         0         0           0   \n",
       "4  325.0  2411    4       4.0    Adyar      1         0         0           0   \n",
       "\n",
       "   Ayanambakkam  ...  Thirumazhisai  Tiruvottiyur  Vadanemmeli  Vadapalani  \\\n",
       "0             0  ...              0             0            0           0   \n",
       "1             0  ...              0             0            0           0   \n",
       "2             0  ...              0             0            0           0   \n",
       "3             0  ...              0             0            0           0   \n",
       "4             0  ...              0             0            0           0   \n",
       "\n",
       "   Vanagaram  Velachery  Vengaivasal  Veppampattu  West Mambalam  \\\n",
       "0          0          0            0            0              0   \n",
       "1          0          0            0            0              0   \n",
       "2          0          0            0            0              0   \n",
       "3          0          0            0            0              0   \n",
       "4          0          0            0            0              0   \n",
       "\n",
       "   tambaram west  \n",
       "0              0  \n",
       "1              0  \n",
       "2              0  \n",
       "3              0  \n",
       "4              0  \n",
       "\n",
       "[5 rows x 62 columns]"
      ]
     },
     "execution_count": 30,
     "metadata": {},
     "output_type": "execute_result"
    }
   ],
   "source": [
    "df9=pd.concat([df8,dummies.drop('other',axis='columns')],axis='columns')\n",
    "df9.head()"
   ]
  },
  {
   "cell_type": "code",
   "execution_count": 31,
   "id": "e95a330f",
   "metadata": {},
   "outputs": [
    {
     "data": {
      "text/html": [
       "<div>\n",
       "<style scoped>\n",
       "    .dataframe tbody tr th:only-of-type {\n",
       "        vertical-align: middle;\n",
       "    }\n",
       "\n",
       "    .dataframe tbody tr th {\n",
       "        vertical-align: top;\n",
       "    }\n",
       "\n",
       "    .dataframe thead th {\n",
       "        text-align: right;\n",
       "    }\n",
       "</style>\n",
       "<table border=\"1\" class=\"dataframe\">\n",
       "  <thead>\n",
       "    <tr style=\"text-align: right;\">\n",
       "      <th></th>\n",
       "      <th>price</th>\n",
       "      <th>area</th>\n",
       "      <th>bhk</th>\n",
       "      <th>bathroom</th>\n",
       "      <th>Adyar</th>\n",
       "      <th>Alwarpet</th>\n",
       "      <th>Ambattur</th>\n",
       "      <th>Anna Nagar</th>\n",
       "      <th>Ayanambakkam</th>\n",
       "      <th>Chromepet</th>\n",
       "      <th>...</th>\n",
       "      <th>Thirumazhisai</th>\n",
       "      <th>Tiruvottiyur</th>\n",
       "      <th>Vadanemmeli</th>\n",
       "      <th>Vadapalani</th>\n",
       "      <th>Vanagaram</th>\n",
       "      <th>Velachery</th>\n",
       "      <th>Vengaivasal</th>\n",
       "      <th>Veppampattu</th>\n",
       "      <th>West Mambalam</th>\n",
       "      <th>tambaram west</th>\n",
       "    </tr>\n",
       "  </thead>\n",
       "  <tbody>\n",
       "    <tr>\n",
       "      <th>0</th>\n",
       "      <td>261.0</td>\n",
       "      <td>1548</td>\n",
       "      <td>3</td>\n",
       "      <td>2.0</td>\n",
       "      <td>1</td>\n",
       "      <td>0</td>\n",
       "      <td>0</td>\n",
       "      <td>0</td>\n",
       "      <td>0</td>\n",
       "      <td>0</td>\n",
       "      <td>...</td>\n",
       "      <td>0</td>\n",
       "      <td>0</td>\n",
       "      <td>0</td>\n",
       "      <td>0</td>\n",
       "      <td>0</td>\n",
       "      <td>0</td>\n",
       "      <td>0</td>\n",
       "      <td>0</td>\n",
       "      <td>0</td>\n",
       "      <td>0</td>\n",
       "    </tr>\n",
       "    <tr>\n",
       "      <th>1</th>\n",
       "      <td>278.0</td>\n",
       "      <td>1652</td>\n",
       "      <td>3</td>\n",
       "      <td>2.0</td>\n",
       "      <td>1</td>\n",
       "      <td>0</td>\n",
       "      <td>0</td>\n",
       "      <td>0</td>\n",
       "      <td>0</td>\n",
       "      <td>0</td>\n",
       "      <td>...</td>\n",
       "      <td>0</td>\n",
       "      <td>0</td>\n",
       "      <td>0</td>\n",
       "      <td>0</td>\n",
       "      <td>0</td>\n",
       "      <td>0</td>\n",
       "      <td>0</td>\n",
       "      <td>0</td>\n",
       "      <td>0</td>\n",
       "      <td>0</td>\n",
       "    </tr>\n",
       "    <tr>\n",
       "      <th>2</th>\n",
       "      <td>274.0</td>\n",
       "      <td>1627</td>\n",
       "      <td>3</td>\n",
       "      <td>2.0</td>\n",
       "      <td>1</td>\n",
       "      <td>0</td>\n",
       "      <td>0</td>\n",
       "      <td>0</td>\n",
       "      <td>0</td>\n",
       "      <td>0</td>\n",
       "      <td>...</td>\n",
       "      <td>0</td>\n",
       "      <td>0</td>\n",
       "      <td>0</td>\n",
       "      <td>0</td>\n",
       "      <td>0</td>\n",
       "      <td>0</td>\n",
       "      <td>0</td>\n",
       "      <td>0</td>\n",
       "      <td>0</td>\n",
       "      <td>0</td>\n",
       "    </tr>\n",
       "    <tr>\n",
       "      <th>3</th>\n",
       "      <td>210.0</td>\n",
       "      <td>1381</td>\n",
       "      <td>3</td>\n",
       "      <td>3.0</td>\n",
       "      <td>1</td>\n",
       "      <td>0</td>\n",
       "      <td>0</td>\n",
       "      <td>0</td>\n",
       "      <td>0</td>\n",
       "      <td>0</td>\n",
       "      <td>...</td>\n",
       "      <td>0</td>\n",
       "      <td>0</td>\n",
       "      <td>0</td>\n",
       "      <td>0</td>\n",
       "      <td>0</td>\n",
       "      <td>0</td>\n",
       "      <td>0</td>\n",
       "      <td>0</td>\n",
       "      <td>0</td>\n",
       "      <td>0</td>\n",
       "    </tr>\n",
       "    <tr>\n",
       "      <th>4</th>\n",
       "      <td>325.0</td>\n",
       "      <td>2411</td>\n",
       "      <td>4</td>\n",
       "      <td>4.0</td>\n",
       "      <td>1</td>\n",
       "      <td>0</td>\n",
       "      <td>0</td>\n",
       "      <td>0</td>\n",
       "      <td>0</td>\n",
       "      <td>0</td>\n",
       "      <td>...</td>\n",
       "      <td>0</td>\n",
       "      <td>0</td>\n",
       "      <td>0</td>\n",
       "      <td>0</td>\n",
       "      <td>0</td>\n",
       "      <td>0</td>\n",
       "      <td>0</td>\n",
       "      <td>0</td>\n",
       "      <td>0</td>\n",
       "      <td>0</td>\n",
       "    </tr>\n",
       "  </tbody>\n",
       "</table>\n",
       "<p>5 rows × 61 columns</p>\n",
       "</div>"
      ],
      "text/plain": [
       "   price  area  bhk  bathroom  Adyar  Alwarpet  Ambattur  Anna Nagar  \\\n",
       "0  261.0  1548    3       2.0      1         0         0           0   \n",
       "1  278.0  1652    3       2.0      1         0         0           0   \n",
       "2  274.0  1627    3       2.0      1         0         0           0   \n",
       "3  210.0  1381    3       3.0      1         0         0           0   \n",
       "4  325.0  2411    4       4.0      1         0         0           0   \n",
       "\n",
       "   Ayanambakkam  Chromepet  ...  Thirumazhisai  Tiruvottiyur  Vadanemmeli  \\\n",
       "0             0          0  ...              0             0            0   \n",
       "1             0          0  ...              0             0            0   \n",
       "2             0          0  ...              0             0            0   \n",
       "3             0          0  ...              0             0            0   \n",
       "4             0          0  ...              0             0            0   \n",
       "\n",
       "   Vadapalani  Vanagaram  Velachery  Vengaivasal  Veppampattu  West Mambalam  \\\n",
       "0           0          0          0            0            0              0   \n",
       "1           0          0          0            0            0              0   \n",
       "2           0          0          0            0            0              0   \n",
       "3           0          0          0            0            0              0   \n",
       "4           0          0          0            0            0              0   \n",
       "\n",
       "   tambaram west  \n",
       "0              0  \n",
       "1              0  \n",
       "2              0  \n",
       "3              0  \n",
       "4              0  \n",
       "\n",
       "[5 rows x 61 columns]"
      ]
     },
     "execution_count": 31,
     "metadata": {},
     "output_type": "execute_result"
    }
   ],
   "source": [
    "#drop location column\n",
    "df10=df9.drop('location',axis='columns')\n",
    "df10.head()"
   ]
  },
  {
   "cell_type": "code",
   "execution_count": 32,
   "id": "e1abaad8",
   "metadata": {},
   "outputs": [
    {
     "data": {
      "text/plain": [
       "(1337, 61)"
      ]
     },
     "execution_count": 32,
     "metadata": {},
     "output_type": "execute_result"
    }
   ],
   "source": [
    "df10.shape"
   ]
  },
  {
   "cell_type": "code",
   "execution_count": 33,
   "id": "e75cecbe",
   "metadata": {},
   "outputs": [
    {
     "data": {
      "text/html": [
       "<div>\n",
       "<style scoped>\n",
       "    .dataframe tbody tr th:only-of-type {\n",
       "        vertical-align: middle;\n",
       "    }\n",
       "\n",
       "    .dataframe tbody tr th {\n",
       "        vertical-align: top;\n",
       "    }\n",
       "\n",
       "    .dataframe thead th {\n",
       "        text-align: right;\n",
       "    }\n",
       "</style>\n",
       "<table border=\"1\" class=\"dataframe\">\n",
       "  <thead>\n",
       "    <tr style=\"text-align: right;\">\n",
       "      <th></th>\n",
       "      <th>area</th>\n",
       "      <th>bhk</th>\n",
       "      <th>bathroom</th>\n",
       "      <th>Adyar</th>\n",
       "      <th>Alwarpet</th>\n",
       "      <th>Ambattur</th>\n",
       "      <th>Anna Nagar</th>\n",
       "      <th>Ayanambakkam</th>\n",
       "      <th>Chromepet</th>\n",
       "      <th>East Tambaram</th>\n",
       "      <th>...</th>\n",
       "      <th>Thirumazhisai</th>\n",
       "      <th>Tiruvottiyur</th>\n",
       "      <th>Vadanemmeli</th>\n",
       "      <th>Vadapalani</th>\n",
       "      <th>Vanagaram</th>\n",
       "      <th>Velachery</th>\n",
       "      <th>Vengaivasal</th>\n",
       "      <th>Veppampattu</th>\n",
       "      <th>West Mambalam</th>\n",
       "      <th>tambaram west</th>\n",
       "    </tr>\n",
       "  </thead>\n",
       "  <tbody>\n",
       "    <tr>\n",
       "      <th>0</th>\n",
       "      <td>1548</td>\n",
       "      <td>3</td>\n",
       "      <td>2.0</td>\n",
       "      <td>1</td>\n",
       "      <td>0</td>\n",
       "      <td>0</td>\n",
       "      <td>0</td>\n",
       "      <td>0</td>\n",
       "      <td>0</td>\n",
       "      <td>0</td>\n",
       "      <td>...</td>\n",
       "      <td>0</td>\n",
       "      <td>0</td>\n",
       "      <td>0</td>\n",
       "      <td>0</td>\n",
       "      <td>0</td>\n",
       "      <td>0</td>\n",
       "      <td>0</td>\n",
       "      <td>0</td>\n",
       "      <td>0</td>\n",
       "      <td>0</td>\n",
       "    </tr>\n",
       "    <tr>\n",
       "      <th>1</th>\n",
       "      <td>1652</td>\n",
       "      <td>3</td>\n",
       "      <td>2.0</td>\n",
       "      <td>1</td>\n",
       "      <td>0</td>\n",
       "      <td>0</td>\n",
       "      <td>0</td>\n",
       "      <td>0</td>\n",
       "      <td>0</td>\n",
       "      <td>0</td>\n",
       "      <td>...</td>\n",
       "      <td>0</td>\n",
       "      <td>0</td>\n",
       "      <td>0</td>\n",
       "      <td>0</td>\n",
       "      <td>0</td>\n",
       "      <td>0</td>\n",
       "      <td>0</td>\n",
       "      <td>0</td>\n",
       "      <td>0</td>\n",
       "      <td>0</td>\n",
       "    </tr>\n",
       "    <tr>\n",
       "      <th>2</th>\n",
       "      <td>1627</td>\n",
       "      <td>3</td>\n",
       "      <td>2.0</td>\n",
       "      <td>1</td>\n",
       "      <td>0</td>\n",
       "      <td>0</td>\n",
       "      <td>0</td>\n",
       "      <td>0</td>\n",
       "      <td>0</td>\n",
       "      <td>0</td>\n",
       "      <td>...</td>\n",
       "      <td>0</td>\n",
       "      <td>0</td>\n",
       "      <td>0</td>\n",
       "      <td>0</td>\n",
       "      <td>0</td>\n",
       "      <td>0</td>\n",
       "      <td>0</td>\n",
       "      <td>0</td>\n",
       "      <td>0</td>\n",
       "      <td>0</td>\n",
       "    </tr>\n",
       "    <tr>\n",
       "      <th>3</th>\n",
       "      <td>1381</td>\n",
       "      <td>3</td>\n",
       "      <td>3.0</td>\n",
       "      <td>1</td>\n",
       "      <td>0</td>\n",
       "      <td>0</td>\n",
       "      <td>0</td>\n",
       "      <td>0</td>\n",
       "      <td>0</td>\n",
       "      <td>0</td>\n",
       "      <td>...</td>\n",
       "      <td>0</td>\n",
       "      <td>0</td>\n",
       "      <td>0</td>\n",
       "      <td>0</td>\n",
       "      <td>0</td>\n",
       "      <td>0</td>\n",
       "      <td>0</td>\n",
       "      <td>0</td>\n",
       "      <td>0</td>\n",
       "      <td>0</td>\n",
       "    </tr>\n",
       "    <tr>\n",
       "      <th>4</th>\n",
       "      <td>2411</td>\n",
       "      <td>4</td>\n",
       "      <td>4.0</td>\n",
       "      <td>1</td>\n",
       "      <td>0</td>\n",
       "      <td>0</td>\n",
       "      <td>0</td>\n",
       "      <td>0</td>\n",
       "      <td>0</td>\n",
       "      <td>0</td>\n",
       "      <td>...</td>\n",
       "      <td>0</td>\n",
       "      <td>0</td>\n",
       "      <td>0</td>\n",
       "      <td>0</td>\n",
       "      <td>0</td>\n",
       "      <td>0</td>\n",
       "      <td>0</td>\n",
       "      <td>0</td>\n",
       "      <td>0</td>\n",
       "      <td>0</td>\n",
       "    </tr>\n",
       "  </tbody>\n",
       "</table>\n",
       "<p>5 rows × 60 columns</p>\n",
       "</div>"
      ],
      "text/plain": [
       "   area  bhk  bathroom  Adyar  Alwarpet  Ambattur  Anna Nagar  Ayanambakkam  \\\n",
       "0  1548    3       2.0      1         0         0           0             0   \n",
       "1  1652    3       2.0      1         0         0           0             0   \n",
       "2  1627    3       2.0      1         0         0           0             0   \n",
       "3  1381    3       3.0      1         0         0           0             0   \n",
       "4  2411    4       4.0      1         0         0           0             0   \n",
       "\n",
       "   Chromepet  East Tambaram  ...  Thirumazhisai  Tiruvottiyur  Vadanemmeli  \\\n",
       "0          0              0  ...              0             0            0   \n",
       "1          0              0  ...              0             0            0   \n",
       "2          0              0  ...              0             0            0   \n",
       "3          0              0  ...              0             0            0   \n",
       "4          0              0  ...              0             0            0   \n",
       "\n",
       "   Vadapalani  Vanagaram  Velachery  Vengaivasal  Veppampattu  West Mambalam  \\\n",
       "0           0          0          0            0            0              0   \n",
       "1           0          0          0            0            0              0   \n",
       "2           0          0          0            0            0              0   \n",
       "3           0          0          0            0            0              0   \n",
       "4           0          0          0            0            0              0   \n",
       "\n",
       "   tambaram west  \n",
       "0              0  \n",
       "1              0  \n",
       "2              0  \n",
       "3              0  \n",
       "4              0  \n",
       "\n",
       "[5 rows x 60 columns]"
      ]
     },
     "execution_count": 33,
     "metadata": {},
     "output_type": "execute_result"
    }
   ],
   "source": [
    "X=df10.drop('price',axis='columns')\n",
    "X.head()"
   ]
  },
  {
   "cell_type": "code",
   "execution_count": 34,
   "id": "440366ce",
   "metadata": {},
   "outputs": [
    {
     "data": {
      "text/plain": [
       "0    261.0\n",
       "1    278.0\n",
       "2    274.0\n",
       "3    210.0\n",
       "4    325.0\n",
       "Name: price, dtype: float64"
      ]
     },
     "execution_count": 34,
     "metadata": {},
     "output_type": "execute_result"
    }
   ],
   "source": [
    "Y=df10.price\n",
    "Y.head()"
   ]
  },
  {
   "cell_type": "code",
   "execution_count": 35,
   "id": "edab4018",
   "metadata": {},
   "outputs": [],
   "source": [
    "#building model\n",
    "from sklearn.model_selection import train_test_split\n",
    "X_train,X_test,Y_train,Y_test=train_test_split(X,Y,test_size=0.2,random_state=10)"
   ]
  },
  {
   "cell_type": "code",
   "execution_count": 36,
   "id": "d5bd5f47",
   "metadata": {},
   "outputs": [
    {
     "data": {
      "text/plain": [
       "0.9495390349807835"
      ]
     },
     "execution_count": 36,
     "metadata": {},
     "output_type": "execute_result"
    }
   ],
   "source": [
    "#linear regression model\n",
    "from sklearn.linear_model import LinearRegression\n",
    "lr_clf=LinearRegression()\n",
    "lr_clf.fit(X_train,Y_train)\n",
    "lr_clf.score(X_test,Y_test)"
   ]
  },
  {
   "cell_type": "code",
   "execution_count": 37,
   "id": "2df76e09",
   "metadata": {},
   "outputs": [
    {
     "data": {
      "text/plain": [
       "array([0.9080994 , 0.94976754, 0.93279545, 0.95400859, 0.95522908])"
      ]
     },
     "execution_count": 37,
     "metadata": {},
     "output_type": "execute_result"
    }
   ],
   "source": [
    "#k-fold cross validaion\n",
    "from sklearn.model_selection import ShuffleSplit\n",
    "from sklearn.model_selection import cross_val_score\n",
    "cv=ShuffleSplit(n_splits=5,test_size=0.2,random_state=0)\n",
    "cross_val_score(LinearRegression(),X,Y,cv=cv)"
   ]
  },
  {
   "cell_type": "code",
   "execution_count": 38,
   "id": "8ab99dfc",
   "metadata": {},
   "outputs": [
    {
     "data": {
      "text/html": [
       "<div>\n",
       "<style scoped>\n",
       "    .dataframe tbody tr th:only-of-type {\n",
       "        vertical-align: middle;\n",
       "    }\n",
       "\n",
       "    .dataframe tbody tr th {\n",
       "        vertical-align: top;\n",
       "    }\n",
       "\n",
       "    .dataframe thead th {\n",
       "        text-align: right;\n",
       "    }\n",
       "</style>\n",
       "<table border=\"1\" class=\"dataframe\">\n",
       "  <thead>\n",
       "    <tr style=\"text-align: right;\">\n",
       "      <th></th>\n",
       "      <th>model</th>\n",
       "      <th>best_score</th>\n",
       "      <th>best_params</th>\n",
       "    </tr>\n",
       "  </thead>\n",
       "  <tbody>\n",
       "    <tr>\n",
       "      <th>0</th>\n",
       "      <td>linear_regression</td>\n",
       "      <td>0.939980</td>\n",
       "      <td>{'normalize': False}</td>\n",
       "    </tr>\n",
       "    <tr>\n",
       "      <th>1</th>\n",
       "      <td>lasso</td>\n",
       "      <td>0.871981</td>\n",
       "      <td>{'alpha': 1, 'selection': 'cyclic'}</td>\n",
       "    </tr>\n",
       "    <tr>\n",
       "      <th>2</th>\n",
       "      <td>decision_tree</td>\n",
       "      <td>0.962803</td>\n",
       "      <td>{'criterion': 'mse', 'splitter': 'best'}</td>\n",
       "    </tr>\n",
       "  </tbody>\n",
       "</table>\n",
       "</div>"
      ],
      "text/plain": [
       "               model  best_score                               best_params\n",
       "0  linear_regression    0.939980                      {'normalize': False}\n",
       "1              lasso    0.871981       {'alpha': 1, 'selection': 'cyclic'}\n",
       "2      decision_tree    0.962803  {'criterion': 'mse', 'splitter': 'best'}"
      ]
     },
     "execution_count": 38,
     "metadata": {},
     "output_type": "execute_result"
    }
   ],
   "source": [
    "#grid search cv(runs on diff regression and tells best model)\n",
    "from sklearn.model_selection import GridSearchCV\n",
    "from sklearn.linear_model import Lasso\n",
    "from sklearn.tree import DecisionTreeRegressor\n",
    "def find_best_model_using_gridsearchcv(X,Y):\n",
    "    algos={\n",
    "        'linear_regression':{\n",
    "            'model':LinearRegression(),\n",
    "            'params':{\n",
    "                'normalize':[True,False]\n",
    "            }\n",
    "    },\n",
    "     'lasso':{\n",
    "            'model':Lasso(),\n",
    "            'params':{\n",
    "                'alpha':[1,2],\n",
    "                'selection':['random','cyclic']\n",
    "            }\n",
    "     },\n",
    "        'decision_tree':{\n",
    "            'model':DecisionTreeRegressor(),\n",
    "            'params':{\n",
    "                'criterion':['mse','friedman_mse'],\n",
    "                'splitter':['best','random']\n",
    "            } \n",
    "        }\n",
    "     }\n",
    "    scores = []\n",
    "    cv = ShuffleSplit(n_splits=5, test_size=0.2, random_state=0)\n",
    "    for algo_name, config in algos.items():\n",
    "        gs =  GridSearchCV(config['model'], config['params'], cv=cv, return_train_score=False)\n",
    "        gs.fit(X,Y)\n",
    "        scores.append({\n",
    "            'model': algo_name,\n",
    "            'best_score': gs.best_score_,\n",
    "            'best_params': gs.best_params_\n",
    "        })\n",
    "\n",
    "    return pd.DataFrame(scores,columns=['model','best_score','best_params'])\n",
    "\n",
    "find_best_model_using_gridsearchcv(X,Y)\n",
    "\n",
    "            "
   ]
  },
  {
   "cell_type": "code",
   "execution_count": 39,
   "id": "15ece6a0",
   "metadata": {},
   "outputs": [
    {
     "data": {
      "text/plain": [
       "Index(['area', 'bhk', 'bathroom', 'Adyar', 'Alwarpet', 'Ambattur',\n",
       "       'Anna Nagar', 'Ayanambakkam', 'Chromepet', 'East Tambaram',\n",
       "       'Gerugambakkam', 'Gowrivakkam', 'Guduvancheri', 'Guindy',\n",
       "       'Iyappanthangal', 'Iyyappanthangal', 'Karapakkam', 'Kelambakkam',\n",
       "       'Kolapakkam', 'Kolathur', 'Kotturpuram', 'Kovur', 'Koyambedu',\n",
       "       'Kundrathur', 'Madambakkam', 'Madhavaram', 'Madipakkam', 'Medavakkam',\n",
       "       'Mogappair', 'Mugalivakkam', 'Nanmangalam', 'Navallur', 'Pallavaram',\n",
       "       'Pammal', 'Perumbakkam', 'Perungalathur', 'Perungudi', 'Poonamallee',\n",
       "       'Porur', 'Pozhichalur', 'Rajakilpakkam', 'Royapettah', 'Selaiyur',\n",
       "       'Sembakkam', 'Semmancheri', 'Sholinganallur', 'Siruseri',\n",
       "       'Sithalapakkam', 'T Nagar', 'Thaiyur', 'Thirumazhisai', 'Tiruvottiyur',\n",
       "       'Vadanemmeli', 'Vadapalani', 'Vanagaram', 'Velachery', 'Vengaivasal',\n",
       "       'Veppampattu', 'West Mambalam', 'tambaram west'],\n",
       "      dtype='object')"
      ]
     },
     "execution_count": 39,
     "metadata": {},
     "output_type": "execute_result"
    }
   ],
   "source": [
    "X.columns"
   ]
  },
  {
   "cell_type": "code",
   "execution_count": 40,
   "id": "96a11d3c",
   "metadata": {},
   "outputs": [],
   "source": [
    "def predict_price(location,sqft,bath,bhk):    \n",
    "    loc_index = np.where(X.columns==location)[0][0]\n",
    "\n",
    "    x = np.zeros(len(X.columns))\n",
    "    x[0] = sqft\n",
    "    x[1] = bath\n",
    "    x[2] = bhk\n",
    "    if loc_index >= 0:\n",
    "        x[loc_index] = 1\n",
    "\n",
    "    return lr_clf.predict([x])[0]"
   ]
  },
  {
   "cell_type": "code",
   "execution_count": 41,
   "id": "5b5933d8",
   "metadata": {},
   "outputs": [
    {
     "data": {
      "text/plain": [
       "59.03244895714022"
      ]
     },
     "execution_count": 41,
     "metadata": {},
     "output_type": "execute_result"
    }
   ],
   "source": [
    "predict_price('Chromepet',1000, 2, 2)"
   ]
  },
  {
   "cell_type": "code",
   "execution_count": 42,
   "id": "95ae8df8",
   "metadata": {},
   "outputs": [
    {
     "data": {
      "text/plain": [
       "48.699900187777544"
      ]
     },
     "execution_count": 42,
     "metadata": {},
     "output_type": "execute_result"
    }
   ],
   "source": [
    "predict_price('Chromepet',1000, 3, 2)"
   ]
  },
  {
   "cell_type": "code",
   "execution_count": 43,
   "id": "f3208cb1",
   "metadata": {},
   "outputs": [
    {
     "data": {
      "text/plain": [
       "53.48198084950039"
      ]
     },
     "execution_count": 43,
     "metadata": {},
     "output_type": "execute_result"
    }
   ],
   "source": [
    "predict_price('Selaiyur',1000, 2, 2)"
   ]
  },
  {
   "cell_type": "code",
   "execution_count": 44,
   "id": "672c10fc",
   "metadata": {},
   "outputs": [
    {
     "data": {
      "text/plain": [
       "43.149432080137714"
      ]
     },
     "execution_count": 44,
     "metadata": {},
     "output_type": "execute_result"
    }
   ],
   "source": [
    "predict_price('Selaiyur',1000, 3, 2)"
   ]
  },
  {
   "cell_type": "code",
   "execution_count": 46,
   "id": "a4660d45",
   "metadata": {},
   "outputs": [],
   "source": [
    "import pickle\n",
    "with open('home_price_prediction_model.pickle','wb') as hppm:\n",
    "    pickle.dump(lr_clf,hppm)"
   ]
  },
  {
   "cell_type": "code",
   "execution_count": 47,
   "id": "3a7bf4bf",
   "metadata": {},
   "outputs": [],
   "source": [
    "import json\n",
    "columns = {\n",
    "    'data_columns' : [col.lower() for col in X.columns]\n",
    "}\n",
    "with open(\"columns.json\",\"w\") as hppm:\n",
    "    hppm.write(json.dumps(columns))"
   ]
  },
  {
   "cell_type": "code",
   "execution_count": null,
   "id": "16202052",
   "metadata": {},
   "outputs": [],
   "source": []
  }
 ],
 "metadata": {
  "kernelspec": {
   "display_name": "Python 3 (ipykernel)",
   "language": "python",
   "name": "python3"
  },
  "language_info": {
   "codemirror_mode": {
    "name": "ipython",
    "version": 3
   },
   "file_extension": ".py",
   "mimetype": "text/x-python",
   "name": "python",
   "nbconvert_exporter": "python",
   "pygments_lexer": "ipython3",
   "version": "3.9.7"
  }
 },
 "nbformat": 4,
 "nbformat_minor": 5
}
